{
 "cells": [
  {
   "cell_type": "code",
   "execution_count": 1,
   "metadata": {
    "ExecuteTime": {
     "end_time": "2021-04-21T15:23:27.124541Z",
     "start_time": "2021-04-21T15:23:26.750893Z"
    },
    "id": "VltpCBUpxzZA"
   },
   "outputs": [],
   "source": [
    "import torch\n",
    "from torchvision import datasets, transforms\n",
    "import torchvision\n",
    "import matplotlib.pyplot as plt\n",
    "import torch.nn as nn\n",
    "import torch.nn.functional as F\n",
    "import torch.optim as optim\n",
    "import logging\n",
    "import numpy as np\n",
    "import random\n",
    "import time"
   ]
  },
  {
   "cell_type": "code",
   "execution_count": 2,
   "metadata": {
    "ExecuteTime": {
     "end_time": "2021-04-21T15:23:37.542468Z",
     "start_time": "2021-04-21T15:23:37.412248Z"
    },
    "colab": {
     "base_uri": "https://localhost:8080/",
     "height": 74
    },
    "id": "TkbyCxh0FmXK",
    "outputId": "050b391d-f3e9-4f03-de4b-addece52c796"
   },
   "outputs": [],
   "source": [
    "%load_ext autoreload\n",
    "%autoreload 2\n",
    "\n",
    "%matplotlib inline\n",
    "\n"
   ]
  },
  {
   "cell_type": "code",
   "execution_count": 3,
   "metadata": {
    "ExecuteTime": {
     "end_time": "2021-04-21T15:23:53.604671Z",
     "start_time": "2021-04-21T15:23:53.569535Z"
    },
    "id": "Ou8ZLK7u7vZu"
   },
   "outputs": [],
   "source": [
    "# Define the Net\n",
    "\n",
    "\n",
    "class Net(nn.Module):\n",
    "    def __init__(self):\n",
    "        super(Net, self).__init__()\n",
    "        self.conv1 = nn.Conv2d(28, 64, (5,5), padding = 2)\n",
    "        self.conv1_bn = nn.BatchNorm2d(64)\n",
    "\n",
    "        self.conv2 = nn.Conv2d(64, 128, 2, padding = 2)\n",
    "\n",
    "        self.fc1 = nn.Linear(2048, 1024)\n",
    "\n",
    "        self.dropout = nn.Dropout(0.3)\n",
    "\n",
    "        self.fc2 = nn.Linear(1024, 512)\n",
    "\n",
    "        self.bn = nn.BatchNorm1d(1)\n",
    "\n",
    "        self.fc3 = nn.Linear(512, 128)\n",
    "\n",
    "        self.fc4 = nn.Linear(128,47)\n",
    "\n",
    "    def forward(self, x):\n",
    "        x = F.relu(self.conv1(x))\n",
    "        x = F.max_pool2d(x, 1, 2)\n",
    "        x = self.conv1_bn(x)\n",
    "\n",
    "        x = F.relu(self.conv2(x))\n",
    "        x = F.max_pool2d(x, 2, 2)\n",
    "\n",
    "\n",
    "        x = x.view(-1, 2048)\n",
    "        x = F.relu(self.fc1(x))\n",
    "\n",
    "        x = self.dropout(x)\n",
    "\n",
    "        x = self.fc2(x)\n",
    "\n",
    "        x = x.view(-1, 1, 512)\n",
    "        x = self.bn(x)\n",
    "\n",
    "        x = x.view(-1, 512)\n",
    "        x = self.fc3(x)\n",
    "        x = self.fc4(x)\n",
    "\n",
    "        #return F.log_softmax(x, dim=1)\n",
    "        \n",
    "        return x"
   ]
  },
  {
   "cell_type": "code",
   "execution_count": 4,
   "metadata": {
    "ExecuteTime": {
     "end_time": "2021-04-21T15:24:02.618363Z",
     "start_time": "2021-04-21T15:24:02.499520Z"
    },
    "id": "CFbtWnra8p-t"
   },
   "outputs": [],
   "source": [
    "root = ''\n",
    "\n",
    "#test data tranform\n",
    "transform_valid = transforms.Compose(\n",
    "    [\n",
    "     transforms.ToTensor(),\n",
    "     \n",
    "    ])\n",
    "emnist_test = datasets.EMNIST(root,split = 'balanced', train=False, download=True, transform = transform_valid)"
   ]
  },
  {
   "cell_type": "code",
   "execution_count": null,
   "metadata": {
    "colab": {
     "base_uri": "https://localhost:8080/",
     "height": 233
    },
    "id": "EtVmK-RxNMKj",
    "outputId": "9fb046d0-5ebe-4092-bc53-e8c6548d227e"
   },
   "outputs": [],
   "source": []
  },
  {
   "cell_type": "code",
   "execution_count": 6,
   "metadata": {
    "ExecuteTime": {
     "end_time": "2021-04-21T15:25:56.064630Z",
     "start_time": "2021-04-21T15:25:53.331912Z"
    },
    "colab": {
     "base_uri": "https://localhost:8080/",
     "height": 354
    },
    "id": "mwy7oKlSJ9Kj",
    "outputId": "5e43bab6-2e5a-4f0c-b1f3-2c98b6e9da2f"
   },
   "outputs": [
    {
     "name": "stdout",
     "output_type": "stream",
     "text": [
      "Inference on GPU\n",
      "G prediction\n",
      "tensor([0.9994]) probability\n",
      "G real value\n"
     ]
    },
    {
     "data": {
      "image/png": "[encoded data removed]",
      "text/plain": [
       "<Figure size 432x288 with 1 Axes>"
      ]
     },
     "metadata": {
      "needs_background": "light"
     },
     "output_type": "display_data"
    },
    {
     "name": "stdout",
     "output_type": "stream",
     "text": [
      "inference time on GPU:  2.669288396835327\n"
     ]
    }
   ],
   "source": [
    "# Download weights\n",
    "\n",
    "net = Net()\n",
    "\n",
    "\n",
    "model_weights = 'cnn2.pth'\n",
    "net.load_state_dict(torch.load(model_weights)[\"state_dict\"])\n",
    "net.eval()\n",
    "\n",
    "\n",
    "\n",
    "random_img = 13\n",
    "\n",
    "class_mapping = '0123456789ABCDEFGHIJKLMNOPQRSTUVWXYZabdefghnqrt'\n",
    "\n",
    "print('Inference on GPU')\n",
    "start = time.time()\n",
    "with torch.no_grad():\n",
    "\n",
    "  data = emnist_test.data[random_img] # (1,28,28)\n",
    "  \n",
    "  data = data.type(torch.FloatTensor)\n",
    "  data = data/255\n",
    "  \n",
    "  #data = data.view(1, 28, 28, 1).to(device)\n",
    "  data = data.view(1, 28, 28, 1)\n",
    "  data = torch.transpose(data, 1, 2)\n",
    "  \n",
    "  out = net(data)\n",
    "  probabilities = F.softmax(out, dim = 1)\n",
    "  pred_y = torch.max(probabilities, 1)[1].cpu().data.numpy()\n",
    "  \n",
    "  print(class_mapping[int(pred_y)], 'prediction')\n",
    "  print(torch.max(probabilities, 1)[0], 'probability')\n",
    "  plt.imshow(data.cpu().reshape([28, 28]), cmap='Greys_r')\n",
    "  print(class_mapping[int(emnist_test.targets[random_img].numpy())], 'real value')\n",
    "  plt.show()\n",
    "\n",
    "end = time.time()\n",
    "print(\"inference time on GPU: \", end-start)"
   ]
  },
  {
   "cell_type": "code",
   "execution_count": null,
   "metadata": {
    "id": "Z_4v8KuKMMwo"
   },
   "outputs": [],
   "source": []
  }
 ],
 "metadata": {
  "accelerator": "GPU",
  "colab": {
   "collapsed_sections": [],
   "name": "emnist_inference_cnn.ipynb",
   "provenance": []
  },
  "kernelspec": {
   "display_name": "Python 3",
   "language": "python",
   "name": "python3"
  },
  "language_info": {
   "codemirror_mode": {
    "name": "ipython",
    "version": 3
   },
   "file_extension": ".py",
   "mimetype": "text/x-python",
   "name": "python",
   "nbconvert_exporter": "python",
   "pygments_lexer": "ipython3",
   "version": "3.8.5"
  },
  "toc": {
   "base_numbering": 1,
   "nav_menu": {},
   "number_sections": false,
   "sideBar": true,
   "skip_h1_title": false,
   "title_cell": "Table of Contents",
   "title_sidebar": "Contents",
   "toc_cell": false,
   "toc_position": {},
   "toc_section_display": true,
   "toc_window_display": false
  }
 },
 "nbformat": 4,
 "nbformat_minor": 1
}
